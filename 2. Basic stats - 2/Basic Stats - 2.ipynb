{
 "cells": [
  {
   "cell_type": "code",
   "execution_count": 1,
   "metadata": {},
   "outputs": [],
   "source": [
    "import pandas as pd\n",
    "from scipy import stats\n",
    "import numpy as np\n",
    "import matplotlib.pyplot as plt"
   ]
  },
  {
   "cell_type": "code",
   "execution_count": null,
   "metadata": {},
   "outputs": [],
   "source": [
    "# sample data\n",
    "\n",
    "sample = [1.13, 1.55, 1.43, 0.92, 1.25, 1.36, 1.32, 0.85, 1.07, 1.48, 1.20, 1.33, 1.18, 1.22, 1.29]"
   ]
  },
  {
   "cell_type": "code",
   "execution_count": null,
   "metadata": {},
   "outputs": [],
   "source": [
    "# for confidence interval we need mean and std of dataset, \n",
    "# so we need to calculate mean and std of dataset\n",
    "\n",
    "mean = np.mean(sample)\n",
    "std = np.std(sample, ddof=1)\n",
    "n= len(sample)\n"
   ]
  },
  {
   "cell_type": "markdown",
   "metadata": {},
   "source": [
    "Case 1: Build 99% Confidence Interval Using Sample Standard Deviation"
   ]
  },
  {
   "cell_type": "code",
   "execution_count": 4,
   "metadata": {},
   "outputs": [],
   "source": [
    "confidence_level = 0.99"
   ]
  },
  {
   "cell_type": "code",
   "execution_count": 15,
   "metadata": {},
   "outputs": [],
   "source": [
    "# since population std deviation is unknown\n",
    "# sample size is n<30\n",
    "\n",
    "confidence_interval = stats.t.interval(confidence_level, df=n-1, loc=mean, scale=std/np.sqrt(n))"
   ]
  },
  {
   "cell_type": "code",
   "execution_count": 6,
   "metadata": {},
   "outputs": [
    {
     "data": {
      "text/plain": [
       "(1.2386666666666666,\n",
       " 0.19316412956959936,\n",
       " (1.0901973384384906, 1.3871359948948425))"
      ]
     },
     "execution_count": 6,
     "metadata": {},
     "output_type": "execute_result"
    }
   ],
   "source": [
    "mean, std, confidence_interval"
   ]
  },
  {
   "cell_type": "markdown",
   "metadata": {},
   "source": [
    "Case 2: Build 99% Confidence Interval Using Known Population Standard Deviation"
   ]
  },
  {
   "cell_type": "code",
   "execution_count": 14,
   "metadata": {},
   "outputs": [],
   "source": [
    "#population std deviation\n",
    "pop_std = 0.2"
   ]
  },
  {
   "cell_type": "code",
   "execution_count": 16,
   "metadata": {},
   "outputs": [],
   "source": [
    "# to use z-test we use stats.norm\n",
    "# Population std is known therefore we use z-test\n",
    "\n",
    "z_score = stats.norm.ppf((1+confidence_level)/2)\n",
    "# ppf is inverse of cdf\n",
    "# so no need to perform 1-cdf"
   ]
  },
  {
   "cell_type": "code",
   "execution_count": 9,
   "metadata": {},
   "outputs": [],
   "source": [
    "margin_of_error = z_score*(pop_std/np.sqrt(n))"
   ]
  },
  {
   "cell_type": "code",
   "execution_count": 10,
   "metadata": {},
   "outputs": [],
   "source": [
    "confidence_interval = (mean - margin_of_error, mean + margin_of_error)"
   ]
  },
  {
   "cell_type": "code",
   "execution_count": 17,
   "metadata": {},
   "outputs": [
    {
     "data": {
      "text/plain": [
       "(1.2386666666666666, 0.2, (1.0901973384384906, 1.3871359948948425))"
      ]
     },
     "execution_count": 17,
     "metadata": {},
     "output_type": "execute_result"
    }
   ],
   "source": [
    "mean, pop_std, confidence_interval"
   ]
  },
  {
   "cell_type": "code",
   "execution_count": null,
   "metadata": {},
   "outputs": [
    {
     "name": "stdout",
     "output_type": "stream",
     "text": [
      "We are 99% confident that the true mean number of characters printed before a print-head fails lies within : (1.0901973384384906, 1.3871359948948425)\n"
     ]
    }
   ],
   "source": [
    "print(\"We are 99% confident that the true mean number of characters printed before a print-head fails lies within :\" ,confidence_interval)\n"
   ]
  },
  {
   "cell_type": "code",
   "execution_count": 19,
   "metadata": {},
   "outputs": [],
   "source": [
    "confidence_interval2 = stats.norm.interval(confidence=0.99, loc=mean, scale=stats.sem(sample))"
   ]
  },
  {
   "cell_type": "code",
   "execution_count": 20,
   "metadata": {},
   "outputs": [
    {
     "name": "stdout",
     "output_type": "stream",
     "text": [
      "We are 99% confident that the true mean number of characters printed before a print-head fails lies within the:  (1.110197788578895, 1.3671355447544382)\n"
     ]
    }
   ],
   "source": [
    "print(\"We are 99% confident that the true mean number of characters printed before a print-head fails lies within the: \", confidence_interval2)"
   ]
  }
 ],
 "metadata": {
  "kernelspec": {
   "display_name": "base",
   "language": "python",
   "name": "python3"
  },
  "language_info": {
   "codemirror_mode": {
    "name": "ipython",
    "version": 3
   },
   "file_extension": ".py",
   "mimetype": "text/x-python",
   "name": "python",
   "nbconvert_exporter": "python",
   "pygments_lexer": "ipython3",
   "version": "3.12.4"
  }
 },
 "nbformat": 4,
 "nbformat_minor": 2
}
