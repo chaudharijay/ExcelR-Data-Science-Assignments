{
 "cells": [
  {
   "cell_type": "code",
   "execution_count": 1,
   "metadata": {},
   "outputs": [],
   "source": [
    "import numpy as np\n",
    "import scipy.stats as stats"
   ]
  },
  {
   "cell_type": "code",
   "execution_count": 2,
   "metadata": {},
   "outputs": [
    {
     "name": "stdout",
     "output_type": "stream",
     "text": [
      "-38.0\n",
      "0.0\n"
     ]
    }
   ],
   "source": [
    "xbar = 3050 #sample mean\n",
    "meu  = 1000 + 5*600 #population mean\n",
    "std = 5*25 #population std\n",
    "n = 25 #sample size\n",
    "alpha = 0.05\n",
    "\n",
    "z_value = (xbar - meu)/(std / np.sqrt(n))\n",
    "print(z_value)\n",
    "\n",
    "p_value = 2 * stats.norm.sf(np.abs(z_value))\n",
    "print(p_value)\n",
    "\n",
    "\n"
   ]
  },
  {
   "cell_type": "code",
   "execution_count": 3,
   "metadata": {},
   "outputs": [
    {
     "name": "stdout",
     "output_type": "stream",
     "text": [
      "Reject the null hypothesis. The actual mean weekly cost is significantly higher than the predicted cost.\n"
     ]
    }
   ],
   "source": [
    "\n",
    "\n",
    "# Given data\n",
    "sample_mean = 3050\n",
    "population_mean = 4000\n",
    "population_std = 25\n",
    "sample_size = 25\n",
    "\n",
    "# Calculate the z-score\n",
    "z_score = (sample_mean - population_mean) / (population_std / (sample_size**0.5))\n",
    "\n",
    "# Calculate the p-value\n",
    "p_value = stats.norm.sf(abs(z_score))\n",
    "\n",
    "# Set the significance level (alpha)\n",
    "alpha = 0.05\n",
    "\n",
    "# Compare p-value with alpha\n",
    "if p_value < alpha:\n",
    "    print(\"Reject the null hypothesis. The actual mean weekly cost is significantly higher than the predicted cost.\")\n",
    "else:\n",
    "    print(\"Fail to reject the null hypothesis. There is not enough evidence to conclude that the actual mean weekly cost is significantly higher than the predicted cost.\")"
   ]
  }
 ],
 "metadata": {
  "kernelspec": {
   "display_name": "Python 3",
   "language": "python",
   "name": "python3"
  },
  "language_info": {
   "codemirror_mode": {
    "name": "ipython",
    "version": 3
   },
   "file_extension": ".py",
   "mimetype": "text/x-python",
   "name": "python",
   "nbconvert_exporter": "python",
   "pygments_lexer": "ipython3",
   "version": "3.11.0"
  }
 },
 "nbformat": 4,
 "nbformat_minor": 2
}
