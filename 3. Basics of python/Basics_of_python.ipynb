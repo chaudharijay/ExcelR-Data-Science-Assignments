{
 "cells": [
  {
   "cell_type": "code",
   "execution_count": null,
   "metadata": {},
   "outputs": [],
   "source": [
    "# exercise 1: prime numbers"
   ]
  },
  {
   "cell_type": "markdown",
   "metadata": {},
   "source": [
    "Exercise 1: Prime Numbers"
   ]
  },
  {
   "cell_type": "code",
   "execution_count": 1,
   "metadata": {},
   "outputs": [
    {
     "name": "stdout",
     "output_type": "stream",
     "text": [
      "25 is not a prime number\n"
     ]
    }
   ],
   "source": [
    "def is_prime(number):\n",
    "  \"\"\"Checks if a given number is prime.\n",
    "\n",
    "  Args:\n",
    "    number: The number to check.\n",
    "\n",
    "  Returns:\n",
    "    True if the number is prime, False otherwise.\n",
    "  \"\"\"\n",
    "\n",
    "  if number <= 1:\n",
    "    return False\n",
    "  if number <= 3:\n",
    "    return True\n",
    "  if number % 2 == 0 or number % 3 == 0:\n",
    "    return False\n",
    "\n",
    "  i = 5\n",
    "  while i * i <= number:\n",
    "    if number % i == 0 or number % (i + 2) == 0:\n",
    "      return False\n",
    "    i += 6\n",
    "\n",
    "  return True\n",
    "\n",
    "# Get input from the user\n",
    "num = int(input(\"Enter a number: \"))\n",
    "\n",
    "# Check if the number is prime\n",
    "if is_prime(num):\n",
    "  print(num, \"is a prime number\")\n",
    "else:\n",
    "  print(num, \"is not a prime number\")"
   ]
  },
  {
   "cell_type": "markdown",
   "metadata": {},
   "source": [
    "Exercise 2: Product of Random Numbers"
   ]
  },
  {
   "cell_type": "code",
   "execution_count": 3,
   "metadata": {},
   "outputs": [
    {
     "name": "stdout",
     "output_type": "stream",
     "text": [
      "Let's test your multiplication skills!\n",
      "What is 19 multiplied by 91?\n",
      "Incorrect. The correct answer is 1729.\n"
     ]
    }
   ],
   "source": [
    "import random\n",
    "\n",
    "def generate_random_numbers():\n",
    "  \"\"\"Generates two random numbers between 1 and 100.\n",
    "\n",
    "  Returns:\n",
    "    A tuple containing the two random numbers.\n",
    "  \"\"\"\n",
    "\n",
    "  num1 = random.randint(1, 100)\n",
    "  num2 = random.randint(1, 100)\n",
    "  return num1, num2\n",
    "\n",
    "def check_answer(num1, num2, user_answer):\n",
    "  \"\"\"Checks if the user's answer is correct.\n",
    "\n",
    "  Args:\n",
    "    num1: The first random number.\n",
    "    num2: The second random number.\n",
    "    user_answer: The user's answer.\n",
    "\n",
    "  Returns:\n",
    "    True if the answer is correct, False otherwise.\n",
    "  \"\"\"\n",
    "\n",
    "  correct_answer = num1 * num2\n",
    "  return user_answer == correct_answer\n",
    "\n",
    "def main():\n",
    "  \"\"\"Main function of the program.\"\"\"\n",
    "\n",
    "  print(\"Let's test your multiplication skills!\")\n",
    "\n",
    "  num1, num2 = generate_random_numbers()\n",
    "  print(f\"What is {num1} multiplied by {num2}?\")\n",
    "\n",
    "  user_answer = int(input(\"Enter your answer: \"))\n",
    "\n",
    "  if check_answer(num1, num2, user_answer):\n",
    "    print(\"Correct! Your math skills are on point.\")\n",
    "  else:\n",
    "    print(f\"Incorrect. The correct answer is {num1 * num2}.\")\n",
    "\n",
    "if __name__ == \"__main__\":\n",
    "  main()"
   ]
  },
  {
   "cell_type": "markdown",
   "metadata": {},
   "source": [
    "Exercise 3: Squares of Even/Odd Numbers"
   ]
  },
  {
   "cell_type": "code",
   "execution_count": 3,
   "metadata": {},
   "outputs": [
    {
     "name": "stdout",
     "output_type": "stream",
     "text": [
      "Square of 100 is 10000\n",
      "Square of 102 is 10404\n",
      "Square of 104 is 10816\n",
      "Square of 106 is 11236\n",
      "Square of 108 is 11664\n",
      "Square of 110 is 12100\n",
      "Square of 112 is 12544\n",
      "Square of 114 is 12996\n",
      "Square of 116 is 13456\n",
      "Square of 118 is 13924\n",
      "Square of 120 is 14400\n",
      "Square of 122 is 14884\n",
      "Square of 124 is 15376\n",
      "Square of 126 is 15876\n",
      "Square of 128 is 16384\n",
      "Square of 130 is 16900\n",
      "Square of 132 is 17424\n",
      "Square of 134 is 17956\n",
      "Square of 136 is 18496\n",
      "Square of 138 is 19044\n",
      "Square of 140 is 19600\n",
      "Square of 142 is 20164\n",
      "Square of 144 is 20736\n",
      "Square of 146 is 21316\n",
      "Square of 148 is 21904\n",
      "Square of 150 is 22500\n",
      "Square of 152 is 23104\n",
      "Square of 154 is 23716\n",
      "Square of 156 is 24336\n",
      "Square of 158 is 24964\n",
      "Square of 160 is 25600\n",
      "Square of 162 is 26244\n",
      "Square of 164 is 26896\n",
      "Square of 166 is 27556\n",
      "Square of 168 is 28224\n",
      "Square of 170 is 28900\n",
      "Square of 172 is 29584\n",
      "Square of 174 is 30276\n",
      "Square of 176 is 30976\n",
      "Square of 178 is 31684\n",
      "Square of 180 is 32400\n",
      "Square of 182 is 33124\n",
      "Square of 184 is 33856\n",
      "Square of 186 is 34596\n",
      "Square of 188 is 35344\n",
      "Square of 190 is 36100\n",
      "Square of 192 is 36864\n",
      "Square of 194 is 37636\n",
      "Square of 196 is 38416\n",
      "Square of 198 is 39204\n",
      "Square of 200 is 40000\n",
      "Square of 101 is 10201\n",
      "Square of 103 is 10609\n",
      "Square of 105 is 11025\n",
      "Square of 107 is 11449\n",
      "Square of 109 is 11881\n",
      "Square of 111 is 12321\n",
      "Square of 113 is 12769\n",
      "Square of 115 is 13225\n",
      "Square of 117 is 13689\n",
      "Square of 119 is 14161\n",
      "Square of 121 is 14641\n",
      "Square of 123 is 15129\n",
      "Square of 125 is 15625\n",
      "Square of 127 is 16129\n",
      "Square of 129 is 16641\n",
      "Square of 131 is 17161\n",
      "Square of 133 is 17689\n",
      "Square of 135 is 18225\n",
      "Square of 137 is 18769\n",
      "Square of 139 is 19321\n",
      "Square of 141 is 19881\n",
      "Square of 143 is 20449\n",
      "Square of 145 is 21025\n",
      "Square of 147 is 21609\n",
      "Square of 149 is 22201\n",
      "Square of 151 is 22801\n",
      "Square of 153 is 23409\n",
      "Square of 155 is 24025\n",
      "Square of 157 is 24649\n",
      "Square of 159 is 25281\n",
      "Square of 161 is 25921\n",
      "Square of 163 is 26569\n",
      "Square of 165 is 27225\n",
      "Square of 167 is 27889\n",
      "Square of 169 is 28561\n",
      "Square of 171 is 29241\n",
      "Square of 173 is 29929\n",
      "Square of 175 is 30625\n",
      "Square of 177 is 31329\n",
      "Square of 179 is 32041\n",
      "Square of 181 is 32761\n",
      "Square of 183 is 33489\n",
      "Square of 185 is 34225\n",
      "Square of 187 is 34969\n",
      "Square of 189 is 35721\n",
      "Square of 191 is 36481\n",
      "Square of 193 is 37249\n",
      "Square of 195 is 38025\n",
      "Square of 197 is 38809\n",
      "Square of 199 is 39601\n"
     ]
    }
   ],
   "source": [
    "def print_squares(start, end, step):\n",
    "  \"\"\"\n",
    "\n",
    "  Args:\n",
    "    start: The starting number.\n",
    "    end: The ending number.\n",
    "    step: The step size between numbers.\n",
    "  \"\"\"\n",
    "\n",
    "  for num in range(start, end + 1, step):\n",
    "    square = num * num\n",
    "    print(f\"Square of {num} is {square}\")\n",
    "\n",
    "# Print squares of even numbers from 100 to 200\n",
    "print_squares(100, 200, 2)\n",
    "\n",
    "# Print squares of odd numbers from 100 to 200\n",
    "print_squares(101, 200, 2)"
   ]
  },
  {
   "cell_type": "markdown",
   "metadata": {},
   "source": [
    "Exercise 4: Word counter"
   ]
  },
  {
   "cell_type": "code",
   "execution_count": 15,
   "metadata": {},
   "outputs": [
    {
     "name": "stdout",
     "output_type": "stream",
     "text": [
      "{'This': 2, 'is': 1, 'a': 1, 'sample': 1, 'text.': 1, 'text': 1, 'will': 1, 'be': 1, 'used': 1, 'to': 1, 'demonstrate': 1, 'the': 1, 'word': 1, 'counter.': 1}\n"
     ]
    }
   ],
   "source": [
    "def word_count(input_text):\n",
    "  \"\"\"Counts the occurrences of each word in a given text.\n",
    "\n",
    "  Args:\n",
    "    input_text: The text to be analyzed.\n",
    "\n",
    "  Returns:\n",
    "    A dictionary containing word counts.\n",
    "  \"\"\"\n",
    "\n",
    "  words = input_text.split()\n",
    "  word_count = {}\n",
    "  for word in words:\n",
    "    word_count[word] = word_count.get(word, 0) + 1\n",
    "  return word_count\n",
    "\n",
    "input_text = \"This is a sample text. This text will be used to demonstrate the word counter.\"\n",
    "result = word_count(input_text)\n",
    "print(result)"
   ]
  },
  {
   "cell_type": "markdown",
   "metadata": {},
   "source": [
    "Exercise 5: Check for Palindrome"
   ]
  },
  {
   "cell_type": "code",
   "execution_count": 16,
   "metadata": {},
   "outputs": [
    {
     "name": "stdout",
     "output_type": "stream",
     "text": [
      "True\n"
     ]
    }
   ],
   "source": [
    "def is_palindrome(input_string):\n",
    "  \"\"\"Checks if a given string is a palindrome.\n",
    "\n",
    "  Args:\n",
    "    input_string: The string to be checked.\n",
    "\n",
    "  Returns:\n",
    "    True if the string is a palindrome, False otherwise.\n",
    "  \"\"\"\n",
    "\n",
    "  # Convert the string to lowercase and remove non-alphanumeric characters\n",
    "  cleaned_string = ''.join(c.lower() for c in input_string if c.isalnum())\n",
    "\n",
    "  # Check if the cleaned string is equal to its reverse\n",
    "  return cleaned_string == cleaned_string[::-1]\n",
    "\n",
    "input_string = \"racecar\"\n",
    "result = is_palindrome(input_string)\n",
    "print(result)"
   ]
  }
 ],
 "metadata": {
  "kernelspec": {
   "display_name": "Python 3",
   "language": "python",
   "name": "python3"
  },
  "language_info": {
   "codemirror_mode": {
    "name": "ipython",
    "version": 3
   },
   "file_extension": ".py",
   "mimetype": "text/x-python",
   "name": "python",
   "nbconvert_exporter": "python",
   "pygments_lexer": "ipython3",
   "version": "3.11.0"
  }
 },
 "nbformat": 4,
 "nbformat_minor": 2
}
